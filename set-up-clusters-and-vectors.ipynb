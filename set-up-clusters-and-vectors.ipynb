{
 "cells": [
  {
   "cell_type": "code",
   "execution_count": 1,
   "metadata": {},
   "outputs": [],
   "source": [
    "import math\n",
    "import operator\n",
    "import random\n",
    "import re\n",
    "import numpy as np\n",
    "\n",
    "\n",
    "from sklearn.metrics.pairwise import cosine_similarity, euclidean_distances\n",
    "from scipy.stats import pearsonr\n",
    "# from gensim.models import KeyedVectors\n",
    "import pickle\n",
    "\n",
    "from nltk import cluster\n",
    "\n",
    "\n",
    "from nltk.cluster import cosine_distance"
   ]
  },
  {
   "cell_type": "code",
   "execution_count": 2,
   "metadata": {},
   "outputs": [],
   "source": [
    "from contextlib import contextmanager\n",
    "import sys, os\n",
    "\n",
    "# To prevent page crashes\n",
    "\n",
    "@contextmanager\n",
    "def suppress_stdout():\n",
    "    with open(os.devnull, \"w\") as devnull:\n",
    "        old_stdout = sys.stdout\n",
    "        sys.stdout = devnull\n",
    "        try:  \n",
    "            yield\n",
    "        finally:\n",
    "            sys.stdout = old_stdout"
   ]
  },
  {
   "cell_type": "code",
   "execution_count": 3,
   "metadata": {},
   "outputs": [],
   "source": [
    "w_names = [\n",
    "    '1800-w.npy',\n",
    "    '1810-w.npy',\n",
    "    '1820-w.npy',\n",
    "    '1830-w.npy',\n",
    "    '1840-w.npy',\n",
    "    '1850-w.npy',\n",
    "    '1860-w.npy',\n",
    "    '1870-w.npy',\n",
    "    '1880-w.npy',\n",
    "    '1890-w.npy',\n",
    "    '1900-w.npy',\n",
    "    '1910-w.npy',\n",
    "    '1920-w.npy',\n",
    "    '1930-w.npy',\n",
    "    '1940-w.npy',\n",
    "    '1950-w.npy',\n",
    "    '1960-w.npy',\n",
    "    '1970-w.npy',\n",
    "    '1980-w.npy',\n",
    "    '1990-w.npy'\n",
    "]\n",
    "\n",
    "v_names = [\n",
    "    '1800-vocab.pkl',\n",
    "    '1810-vocab.pkl',\n",
    "    '1820-vocab.pkl',\n",
    "    '1830-vocab.pkl',\n",
    "    '1840-vocab.pkl',\n",
    "    '1850-vocab.pkl',\n",
    "    '1860-vocab.pkl',\n",
    "    '1870-vocab.pkl',\n",
    "    '1880-vocab.pkl',\n",
    "    '1890-vocab.pkl',\n",
    "    '1900-vocab.pkl',\n",
    "    '1910-vocab.pkl',\n",
    "    '1920-vocab.pkl',\n",
    "    '1930-vocab.pkl',\n",
    "    '1940-vocab.pkl',\n",
    "    '1950-vocab.pkl',\n",
    "    '1960-vocab.pkl',\n",
    "    '1970-vocab.pkl',\n",
    "    '1980-vocab.pkl',\n",
    "    '1990-vocab.pkl'\n",
    "]"
   ]
  },
  {
   "cell_type": "code",
   "execution_count": 4,
   "metadata": {},
   "outputs": [],
   "source": [
    "w_keys = [\n",
    "    '1800',\n",
    "    '1810',\n",
    "    '1820',\n",
    "    '1830',\n",
    "    '1840',\n",
    "    '1850',\n",
    "    '1860',\n",
    "    '1870',\n",
    "    '1880',\n",
    "    '1890',\n",
    "    '1900',\n",
    "    '1910',\n",
    "    '1920',\n",
    "    '1930',\n",
    "    '1940',\n",
    "    '1950',\n",
    "    '1960',\n",
    "    '1970',\n",
    "    '1980',\n",
    "    '1990'\n",
    "]"
   ]
  },
  {
   "cell_type": "code",
   "execution_count": 29,
   "metadata": {},
   "outputs": [],
   "source": [
    "# load word vectors\n",
    "# Testing with english-fiction diachronic word2vec\n",
    "# word vectors from https://github.com/williamleif/histwords\n",
    "wordvecs = {}\n",
    "vocab = {}\n",
    "for i, k in enumerate(w_names):\n",
    "    w = np.load('sgns-eng-fic/' + k)\n",
    "    v = None\n",
    "    with open('sgns-eng-fic/' + v_names[i], 'rb') as f:\n",
    "        v = pickle.load(f)\n",
    "    wordvecs[w_keys[i]] = w\n",
    "    vocab[w_keys[i]] = v\n",
    "    "
   ]
  },
  {
   "cell_type": "code",
   "execution_count": 30,
   "metadata": {},
   "outputs": [
    {
     "data": {
      "text/plain": [
       "30000000"
      ]
     },
     "execution_count": 30,
     "metadata": {},
     "output_type": "execute_result"
    }
   ],
   "source": [
    "wordvecs['1810'].size"
   ]
  },
  {
   "cell_type": "code",
   "execution_count": 31,
   "metadata": {},
   "outputs": [
    {
     "data": {
      "text/plain": [
       "['assure', 'jones', 'member', 'observe', 'drink']"
      ]
     },
     "execution_count": 31,
     "metadata": {},
     "output_type": "execute_result"
    }
   ],
   "source": [
    "vocab['1830'][1000:1005]"
   ]
  },
  {
   "cell_type": "code",
   "execution_count": 32,
   "metadata": {},
   "outputs": [
    {
     "data": {
      "text/plain": [
       "'0.21.3'"
      ]
     },
     "execution_count": 32,
     "metadata": {},
     "output_type": "execute_result"
    }
   ],
   "source": [
    "# from sklearn.cluster import DBSCAN\n",
    "from sklearn.cluster import AgglomerativeClustering\n",
    "from sklearn.preprocessing import StandardScaler\n",
    "import sklearn\n",
    "sklearn.__version__"
   ]
  },
  {
   "cell_type": "code",
   "execution_count": 153,
   "metadata": {},
   "outputs": [],
   "source": [
    "# testv = wordvecs['1810']\n",
    "# n_clusters=100\n",
    "# clusters = {}\n",
    "# for k in w_keys:\n",
    "#     clusters[k] = AgglomerativeClustering(n_clusters=n_clusters,affinity='euclidean').fit(wordvecs[k][500:10500])\n",
    "\n",
    "# test_cluster = DBSCAN(eps=0.1, min_samples=3, metric='cosine').fit(testv)"
   ]
  },
  {
   "cell_type": "code",
   "execution_count": 155,
   "metadata": {},
   "outputs": [],
   "source": [
    "# clustervals = {}\n",
    "# for k in w_keys:\n",
    "#     clustervals[k] = clusters[k].labels_\n"
   ]
  },
  {
   "cell_type": "code",
   "execution_count": 33,
   "metadata": {},
   "outputs": [],
   "source": [
    "#### Get common vocab\n",
    "start=500\n",
    "end=10500\n",
    "\n",
    "commonvocab = {}\n",
    "v = set(vocab['1810'][start:end])\n",
    "for k in w_keys[1:]:\n",
    "    v = v & set(vocab[k][start:end])\n",
    "    \n",
    "commonvocab = {word: [] for word in v}\n",
    "for word in v:\n",
    "    for k in w_keys:\n",
    "        commonvocab[word].append(vocab[k].index(word))"
   ]
  },
  {
   "cell_type": "code",
   "execution_count": 34,
   "metadata": {},
   "outputs": [],
   "source": [
    "commonlist = list(commonvocab.keys())\n",
    "with open('commonvocab.pickle', 'wb') as handle:\n",
    "    pickle.dump(commonvocab, handle, protocol=pickle.HIGHEST_PROTOCOL)"
   ]
  },
  {
   "cell_type": "code",
   "execution_count": 35,
   "metadata": {},
   "outputs": [
    {
     "data": {
      "text/plain": [
       "[8200,\n",
       " 8200,\n",
       " 8200,\n",
       " 8203,\n",
       " 8210,\n",
       " 8223,\n",
       " 8230,\n",
       " 8237,\n",
       " 8268,\n",
       " 8270,\n",
       " 7593,\n",
       " 8606,\n",
       " 7350,\n",
       " 7122,\n",
       " 6451,\n",
       " 6214,\n",
       " 6429,\n",
       " 6208,\n",
       " 5695,\n",
       " 5639]"
      ]
     },
     "execution_count": 35,
     "metadata": {},
     "output_type": "execute_result"
    }
   ],
   "source": [
    "commonvocab[commonlist[0]]"
   ]
  },
  {
   "cell_type": "code",
   "execution_count": 36,
   "metadata": {},
   "outputs": [],
   "source": [
    "commonW = {}\n",
    "newcommonvocab = {}\n",
    "for i in range(len(w_keys)):\n",
    "    commonW[w_keys[i]] = []\n",
    "for i in range(len(w_keys)):\n",
    "    for k in commonvocab:\n",
    "        commonW[w_keys[i]].append(commonvocab[k][i])\n",
    "        newcommonvocab[k] = len(commonW[w_keys[i]])"
   ]
  },
  {
   "cell_type": "code",
   "execution_count": 37,
   "metadata": {},
   "outputs": [
    {
     "data": {
      "text/plain": [
       "8"
      ]
     },
     "execution_count": 37,
     "metadata": {},
     "output_type": "execute_result"
    }
   ],
   "source": [
    "newcommonvocab[commonlist[7]]\n"
   ]
  },
  {
   "cell_type": "code",
   "execution_count": 38,
   "metadata": {},
   "outputs": [],
   "source": [
    "with open('common-vocab-index.pickle', 'wb') as handle:\n",
    "    pickle.dump(newcommonvocab, handle, protocol=pickle.HIGHEST_PROTOCOL)"
   ]
  },
  {
   "cell_type": "code",
   "execution_count": 39,
   "metadata": {},
   "outputs": [],
   "source": [
    "commonvec = {}\n",
    "for t in w_keys:\n",
    "    commonvec[t] = wordvecs[t][commonW[t]]"
   ]
  },
  {
   "cell_type": "code",
   "execution_count": 40,
   "metadata": {},
   "outputs": [],
   "source": [
    "with open('common-vocab-vectors.pickle', 'wb') as handle:\n",
    "    pickle.dump(commonvec, handle, protocol=pickle.HIGHEST_PROTOCOL)"
   ]
  },
  {
   "cell_type": "code",
   "execution_count": 164,
   "metadata": {},
   "outputs": [],
   "source": [
    "# with open('clusters.pickle', 'wb') as handle:\n",
    "#     pickle.dump(clustervals, handle, protocol=pickle.HIGHEST_PROTOCOL)"
   ]
  },
  {
   "cell_type": "code",
   "execution_count": 42,
   "metadata": {},
   "outputs": [
    {
     "data": {
      "text/plain": [
       "7260"
      ]
     },
     "execution_count": 42,
     "metadata": {},
     "output_type": "execute_result"
    }
   ],
   "source": [
    "commonW['1810'].index(851)"
   ]
  },
  {
   "cell_type": "code",
   "execution_count": 45,
   "metadata": {},
   "outputs": [
    {
     "data": {
      "text/plain": [
       "array([[ 0.0953851 , -0.0102231 ,  0.06517883, ..., -0.04821113,\n",
       "         0.01816791,  0.02954366],\n",
       "       [-0.01117909,  0.02249754, -0.08654148, ...,  0.00234814,\n",
       "         0.05491547,  0.02232076],\n",
       "       [-0.07287728,  0.00237393, -0.02524905, ...,  0.01331965,\n",
       "        -0.00164379, -0.00212812],\n",
       "       ...,\n",
       "       [ 0.        ,  0.        ,  0.        , ...,  0.        ,\n",
       "         0.        ,  0.        ],\n",
       "       [ 0.        ,  0.        ,  0.        , ...,  0.        ,\n",
       "         0.        ,  0.        ],\n",
       "       [ 0.        ,  0.        ,  0.        , ...,  0.        ,\n",
       "         0.        ,  0.        ]])"
      ]
     },
     "execution_count": 45,
     "metadata": {},
     "output_type": "execute_result"
    }
   ],
   "source": [
    "wordvecs['1810']"
   ]
  },
  {
   "cell_type": "code",
   "execution_count": 47,
   "metadata": {},
   "outputs": [
    {
     "data": {
      "text/plain": [
       "array([ 9.58853388e-02,  6.62124492e-04,  5.68131834e-02, -3.82639720e-03,\n",
       "        7.57935817e-02, -5.07373916e-02,  4.60729244e-02,  1.15373532e-01,\n",
       "        5.59888299e-02, -5.19061455e-02, -4.43256804e-02,  3.85622574e-02,\n",
       "        8.20031926e-02,  5.81608054e-03, -1.61272544e-02,  1.03402927e-01,\n",
       "        2.09910884e-03, -4.72073621e-02,  3.78655212e-02,  1.54544999e-03,\n",
       "       -1.31768124e-01,  2.30348498e-02, -4.85786648e-02,  2.94976385e-02,\n",
       "       -9.45933728e-02, -3.87269622e-02, -4.29035925e-02,  1.09901244e-01,\n",
       "       -6.95290764e-02,  2.25496672e-02, -1.86411731e-03,  1.78454350e-02,\n",
       "       -2.92590623e-02, -2.47242950e-02, -4.83790027e-02,  5.99120082e-02,\n",
       "       -7.26775029e-02, -5.08610972e-04, -3.46935277e-02, -8.24167387e-02,\n",
       "       -6.26444674e-02,  5.54035519e-02, -8.05013200e-02, -3.55636644e-02,\n",
       "        5.01836954e-02,  1.05676756e-01,  1.47137537e-02,  7.27222866e-02,\n",
       "       -7.12012879e-02,  3.20624628e-03, -2.31758615e-02,  3.10812193e-02,\n",
       "       -7.96810755e-02, -2.14824870e-02, -3.09630218e-02, -1.10461764e-03,\n",
       "       -4.41737901e-02, -1.33073614e-02,  7.96471826e-02, -1.32166829e-02,\n",
       "        3.21675971e-02, -4.47206297e-02, -7.40710981e-02, -4.64978164e-02,\n",
       "        4.35556235e-02, -7.55589596e-04,  2.13284902e-02, -5.28848040e-02,\n",
       "       -1.72194534e-02, -8.13085884e-02, -2.38558821e-03, -1.14530291e-02,\n",
       "       -8.49595588e-02, -3.02807354e-02, -1.36558071e-03, -4.95968715e-02,\n",
       "       -1.10211794e-01, -4.79692015e-02,  4.20479210e-02,  3.94564344e-02,\n",
       "        8.49995676e-02, -6.70389602e-02,  1.36417157e-01,  5.48451415e-02,\n",
       "        1.12336046e-02, -4.69244645e-02,  1.92238429e-03, -1.76079305e-02,\n",
       "       -4.40694037e-02, -5.22130269e-02, -1.27158136e-02, -8.82424802e-03,\n",
       "       -5.50597881e-02,  1.03877224e-02,  4.54750791e-03,  1.83828330e-03,\n",
       "        5.04053302e-02, -5.51436000e-02, -3.43284892e-02,  3.87795636e-02,\n",
       "       -4.56815516e-03,  5.78295256e-02, -1.24682526e-02,  1.07081959e-02,\n",
       "        1.10439297e-02, -1.82768205e-02,  2.64672391e-02, -1.38345255e-02,\n",
       "       -6.61743185e-02,  6.54633988e-03,  6.96798908e-02,  4.39095655e-02,\n",
       "       -5.25432909e-02,  5.68006054e-02,  3.94114946e-02,  2.39630069e-02,\n",
       "       -2.06896959e-02, -1.14559689e-02, -7.48357256e-02, -3.24615848e-02,\n",
       "       -3.09826477e-02, -4.55374390e-02, -1.58741437e-02, -8.60559237e-02,\n",
       "        5.34049017e-02,  1.23604376e-01, -1.33253042e-01, -8.80053504e-02,\n",
       "       -4.93789045e-02, -5.76903555e-02, -5.05630142e-02,  6.28004099e-02,\n",
       "        1.59240774e-02,  3.20403172e-02, -7.08670274e-02, -3.85800611e-02,\n",
       "        4.85430739e-02, -4.61920928e-02,  6.26836821e-02, -4.22148062e-03,\n",
       "        4.06645496e-02,  1.17883740e-03, -2.82196966e-02,  2.65439242e-02,\n",
       "        1.01749109e-01,  4.72038289e-02, -1.76104179e-02,  6.88129876e-02,\n",
       "       -4.57825841e-02, -9.22970516e-02, -7.98078701e-03,  3.70572250e-02,\n",
       "       -6.38890628e-02,  5.71631625e-02,  5.19038494e-02,  7.58978022e-02,\n",
       "        5.05032018e-02,  8.71475126e-02, -3.87280596e-02, -5.16054263e-02,\n",
       "       -9.23707122e-02,  1.06548967e-01,  6.78827820e-02, -8.53351837e-02,\n",
       "        1.79405841e-02,  2.08245364e-02,  1.21241072e-01,  2.38409400e-02,\n",
       "        1.05461272e-01,  3.68062423e-02,  3.13259747e-02,  8.58909626e-03,\n",
       "       -6.79024956e-02, -4.51276212e-02, -1.85465668e-02, -5.32073701e-04,\n",
       "       -2.36914980e-02, -4.42188207e-02,  1.19620993e-04, -3.88632875e-02,\n",
       "        3.66903523e-02,  9.19965658e-02, -8.04027155e-02, -4.27322736e-02,\n",
       "       -7.30643931e-02, -5.26713363e-02,  6.60455867e-02,  4.61382429e-02,\n",
       "        3.85370598e-02,  6.48776131e-02, -5.91099393e-02,  1.37031960e-02,\n",
       "       -1.04462290e-01, -7.32404204e-02,  1.82637952e-02, -1.21317676e-01,\n",
       "       -7.03850637e-02,  3.39569359e-02,  1.78870752e-02, -2.13919919e-02,\n",
       "       -1.05339794e-01,  2.43382175e-02, -2.56893980e-02, -4.81776958e-03,\n",
       "        5.03452341e-02, -3.42045947e-02,  8.57311012e-02,  8.68969624e-02,\n",
       "        3.69243294e-02,  2.02303605e-02, -3.46889593e-02,  4.91440231e-02,\n",
       "       -5.71131175e-04, -1.12350587e-01, -3.68728894e-02, -8.33065854e-02,\n",
       "        3.22926838e-02, -5.17998144e-02, -1.05884213e-02,  9.57996682e-02,\n",
       "        2.03805310e-02,  5.00632112e-02,  4.54364889e-02,  2.00836231e-02,\n",
       "        7.50504356e-03, -1.65182064e-02, -2.21684465e-02,  6.85486360e-02,\n",
       "       -1.03890516e-01, -3.81311098e-03, -4.97260907e-02, -4.73921262e-02,\n",
       "        1.24108662e-01, -4.20891337e-02, -5.71669768e-02,  1.62893047e-01,\n",
       "        1.48926819e-02,  3.08965319e-02,  1.94322922e-03, -4.17123273e-02,\n",
       "       -5.84384015e-02, -5.08212888e-03,  1.02569765e-02, -1.80396492e-02,\n",
       "        6.18232770e-02, -3.76917704e-02,  2.23914507e-02,  4.69387219e-02,\n",
       "       -7.36872583e-03,  6.60786676e-02, -6.91221768e-02,  2.91253603e-02,\n",
       "       -8.47309871e-02, -1.12471429e-01, -2.74007162e-02,  3.24400629e-02,\n",
       "       -7.28371875e-02,  1.22469479e-01, -1.58154963e-02, -3.55880347e-02,\n",
       "       -6.49274516e-02, -1.78923381e-02, -1.44632488e-02,  6.91010962e-02,\n",
       "        6.86670113e-02,  4.16001766e-02,  1.17129286e-02, -1.52091789e-03,\n",
       "        1.40558610e-01, -4.72255537e-02, -1.81956791e-02, -5.16217293e-02,\n",
       "        4.66295706e-02,  4.61651396e-02,  4.14897439e-02,  2.57360213e-02,\n",
       "       -7.23912858e-02,  5.32248428e-02,  3.61327103e-03,  6.61560772e-03,\n",
       "       -4.95557241e-02, -2.43894452e-02,  9.69512645e-03, -1.31743654e-01,\n",
       "        9.37820880e-02, -2.40975221e-02, -2.82757525e-02, -3.11088767e-02,\n",
       "        9.42563116e-02, -1.16965000e-01, -5.19698136e-03, -1.47912818e-02,\n",
       "        1.52094688e-01, -1.04730465e-01, -6.43684551e-02,  2.69703640e-02,\n",
       "        8.28992288e-02, -3.79946050e-02,  1.13549558e-02,  3.42071297e-02])"
      ]
     },
     "execution_count": 47,
     "metadata": {},
     "output_type": "execute_result"
    }
   ],
   "source": [
    "commonvec['1810'][7260]"
   ]
  },
  {
   "cell_type": "code",
   "execution_count": 48,
   "metadata": {},
   "outputs": [],
   "source": [
    "n_clusters=100\n",
    "newclusters = {}\n",
    "for k in w_keys:\n",
    "    newclusters[k] = AgglomerativeClustering(n_clusters=n_clusters,affinity='euclidean').fit(commonvec[k])\n"
   ]
  },
  {
   "cell_type": "code",
   "execution_count": 49,
   "metadata": {},
   "outputs": [
    {
     "data": {
      "text/plain": [
       "100"
      ]
     },
     "execution_count": 49,
     "metadata": {},
     "output_type": "execute_result"
    }
   ],
   "source": [
    "nlabels=newclusters['1810'].labels_\n",
    "n_clusters = len(set(nlabels)) - (1 if -1 in nlabels else 0) # Number of clusters in labels\n",
    "n_clusters"
   ]
  },
  {
   "cell_type": "code",
   "execution_count": 50,
   "metadata": {},
   "outputs": [],
   "source": [
    "with open('clusters.pickle', 'wb') as handle:\n",
    "    pickle.dump(newclusters, handle, protocol=pickle.HIGHEST_PROTOCOL)"
   ]
  },
  {
   "cell_type": "code",
   "execution_count": 54,
   "metadata": {},
   "outputs": [],
   "source": [
    "clustsagg = {}\n",
    "with open('clusters.pickle', 'rb') as f:\n",
    "    clustsagg = pickle.load(f)"
   ]
  },
  {
   "cell_type": "code",
   "execution_count": 53,
   "metadata": {},
   "outputs": [
    {
     "data": {
      "text/plain": [
       "7446"
      ]
     },
     "execution_count": 53,
     "metadata": {},
     "output_type": "execute_result"
    }
   ],
   "source": [
    "len(clustsagg['1810'].labels_)"
   ]
  },
  {
   "cell_type": "code",
   "execution_count": 55,
   "metadata": {},
   "outputs": [],
   "source": [
    "clusts = {}\n",
    "for t in w_keys:\n",
    "    clusts[t] = clustsagg[t].labels_"
   ]
  },
  {
   "cell_type": "code",
   "execution_count": 56,
   "metadata": {},
   "outputs": [],
   "source": [
    "commonvec = {}\n",
    "with open('common-vocab-vectors.pickle', 'rb') as f:\n",
    "    commonvec = pickle.load(f)"
   ]
  },
  {
   "cell_type": "code",
   "execution_count": 57,
   "metadata": {},
   "outputs": [
    {
     "data": {
      "text/plain": [
       "array([0., 0., 0., 0., 0., 0., 0., 0., 0., 0., 0., 0., 0., 0., 0., 0., 0.,\n",
       "       0., 0., 0., 0., 0., 0., 0., 0., 0., 0., 0., 0., 0., 0., 0., 0., 0.,\n",
       "       0., 0., 0., 0., 0., 0., 0., 0., 0., 0., 0., 0., 0., 0., 0., 0., 0.,\n",
       "       0., 0., 0., 0., 0., 0., 0., 0., 0., 0., 0., 0., 0., 0., 0., 0., 0.,\n",
       "       0., 0., 0., 0., 0., 0., 0., 0., 0., 0., 0., 0., 0., 0., 0., 0., 0.,\n",
       "       0., 0., 0., 0., 0., 0., 0., 0., 0., 0., 0., 0., 0., 0., 0., 0., 0.,\n",
       "       0., 0., 0., 0., 0., 0., 0., 0., 0., 0., 0., 0., 0., 0., 0., 0., 0.,\n",
       "       0., 0., 0., 0., 0., 0., 0., 0., 0., 0., 0., 0., 0., 0., 0., 0., 0.,\n",
       "       0., 0., 0., 0., 0., 0., 0., 0., 0., 0., 0., 0., 0., 0., 0., 0., 0.,\n",
       "       0., 0., 0., 0., 0., 0., 0., 0., 0., 0., 0., 0., 0., 0., 0., 0., 0.,\n",
       "       0., 0., 0., 0., 0., 0., 0., 0., 0., 0., 0., 0., 0., 0., 0., 0., 0.,\n",
       "       0., 0., 0., 0., 0., 0., 0., 0., 0., 0., 0., 0., 0., 0., 0., 0., 0.,\n",
       "       0., 0., 0., 0., 0., 0., 0., 0., 0., 0., 0., 0., 0., 0., 0., 0., 0.,\n",
       "       0., 0., 0., 0., 0., 0., 0., 0., 0., 0., 0., 0., 0., 0., 0., 0., 0.,\n",
       "       0., 0., 0., 0., 0., 0., 0., 0., 0., 0., 0., 0., 0., 0., 0., 0., 0.,\n",
       "       0., 0., 0., 0., 0., 0., 0., 0., 0., 0., 0., 0., 0., 0., 0., 0., 0.,\n",
       "       0., 0., 0., 0., 0., 0., 0., 0., 0., 0., 0., 0., 0., 0., 0., 0., 0.,\n",
       "       0., 0., 0., 0., 0., 0., 0., 0., 0., 0., 0.])"
      ]
     },
     "execution_count": 57,
     "metadata": {},
     "output_type": "execute_result"
    }
   ],
   "source": [
    "commonvec['1810'][25]"
   ]
  },
  {
   "cell_type": "code",
   "execution_count": 58,
   "metadata": {},
   "outputs": [],
   "source": [
    "centers_dict = {}\n",
    "for t in w_keys:\n",
    "    centers_dict[t] = np.zeros((100,300))\n",
    "    \n",
    "for t in w_keys:\n",
    "    cnts = [0] * 100\n",
    "    for i in range(len(clusts[t])):\n",
    "        x = clusts[t][i]\n",
    "        centers_dict[t][x] += commonvec[t][i]\n",
    "        cnts[x] += 1\n",
    "    for j in range(100):\n",
    "        if cnts[j] > 0:\n",
    "            centers_dict[t] = centers_dict[t]/cnts[j]\n",
    "\n"
   ]
  },
  {
   "cell_type": "code",
   "execution_count": 63,
   "metadata": {},
   "outputs": [],
   "source": [
    "with open('cluster-center-vectors.pickle', 'wb') as handle:\n",
    "    pickle.dump(centers_dict, handle, protocol=pickle.HIGHEST_PROTOCOL)\n",
    "    \n",
    "\"\"\"\n",
    "Load from here\n",
    "\"\"\""
   ]
  },
  {
   "cell_type": "code",
   "execution_count": null,
   "metadata": {},
   "outputs": [],
   "source": []
  },
  {
   "cell_type": "code",
   "execution_count": 25,
   "metadata": {},
   "outputs": [
    {
     "data": {
      "text/plain": [
       "100"
      ]
     },
     "execution_count": 25,
     "metadata": {},
     "output_type": "execute_result"
    }
   ],
   "source": [
    "# nlabels = clusters['1840'].labels_\n",
    "# n_clusters = len(set(nlabels)) - (1 if -1 in nlabels else 0) # Number of clusters in labels\n",
    "# n_clusters"
   ]
  },
  {
   "cell_type": "code",
   "execution_count": null,
   "metadata": {},
   "outputs": [],
   "source": []
  },
  {
   "cell_type": "code",
   "execution_count": 33,
   "metadata": {},
   "outputs": [],
   "source": [
    "# len(vocab['1810'])\n",
    "# means = wordvecs['1810'][0:20]"
   ]
  },
  {
   "cell_type": "code",
   "execution_count": 35,
   "metadata": {},
   "outputs": [],
   "source": [
    "# NUM_CLUSTERS = 20\n",
    "# # clusterer = cluster.EMClusterer(means, bias=0.1)\n",
    "# clusterer = cluster.KMeansClusterer(NUM_CLUSTERS, cosine_distance, initial_means=means.tolist())\n",
    "# clusters = clusterer.cluster(wordvecs['1810'][:1000], True)\n",
    "\n",
    "# print(\"clustering\")\n",
    "# with suppress_stdout():\n",
    "#    clusters = clusterer.cluster(wordvecs['1810'][:1000], True, trace=False)\n",
    "# print(\"done\")"
   ]
  },
  {
   "cell_type": "code",
   "execution_count": 40,
   "metadata": {},
   "outputs": [
    {
     "data": {
      "text/plain": [
       "20"
      ]
     },
     "execution_count": 40,
     "metadata": {},
     "output_type": "execute_result"
    }
   ],
   "source": [
    "len(clusterer.means())"
   ]
  },
  {
   "cell_type": "code",
   "execution_count": 42,
   "metadata": {},
   "outputs": [
    {
     "data": {
      "text/plain": [
       "4"
      ]
     },
     "execution_count": 42,
     "metadata": {},
     "output_type": "execute_result"
    }
   ],
   "source": [
    "clusters[1]"
   ]
  },
  {
   "cell_type": "code",
   "execution_count": null,
   "metadata": {},
   "outputs": [],
   "source": []
  }
 ],
 "metadata": {
  "kernelspec": {
   "display_name": "Python 3",
   "language": "python",
   "name": "python3"
  },
  "language_info": {
   "codemirror_mode": {
    "name": "ipython",
    "version": 3
   },
   "file_extension": ".py",
   "mimetype": "text/x-python",
   "name": "python",
   "nbconvert_exporter": "python",
   "pygments_lexer": "ipython3",
   "version": "3.7.4"
  }
 },
 "nbformat": 4,
 "nbformat_minor": 2
}
